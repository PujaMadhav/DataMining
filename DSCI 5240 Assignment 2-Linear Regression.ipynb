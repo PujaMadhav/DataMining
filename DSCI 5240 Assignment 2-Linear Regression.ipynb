{
 "cells": [
  {
   "cell_type": "markdown",
   "id": "edb5e6f2",
   "metadata": {},
   "source": [
    "### Assignment 2 - Linear Regression"
   ]
  },
  {
   "cell_type": "code",
   "execution_count": 1,
   "id": "6fc2bb24",
   "metadata": {},
   "outputs": [],
   "source": [
    "# This code appears in every demonstration Notebook.\n",
    "# By default, when you run each cell, only the last output of the codes will show.\n",
    "# This code makes all outputs of a cell show.\n",
    "from IPython.core.interactiveshell import InteractiveShell\n",
    "InteractiveShell.ast_node_interactivity = \"all\""
   ]
  },
  {
   "cell_type": "markdown",
   "id": "1f8c655a",
   "metadata": {},
   "source": [
    "The dataset is based on Gyódi and Nawaro (2021)’s research on Airbnb prices in European cities. We take a sub dataset of Airbnb listings in Barcelona, Spain during weekdays and intend to build a model to predict listing price using the features.<br>\n",
    "\n",
    "The variables are as follows.<br>\n",
    "<b>price</b> ---\tListing price<br>\n",
    "<b>bedrooms</b> ---\tnumber of bedrooms<br>\n",
    "<b>person_capacity</b> ---\tmaximum number of guests<br>\n",
    "<b>room_private</b> ---\tdummy for private rooms<br>\n",
    "<b>room_shared</b> ---\tdummy for shared rooms<br>\n",
    "<b>cleanliness</b> ---\tguest reviews: scale to 10<br>\n",
    "<b>guest_satisfaction</b> --- guest reviews:scale to 100<br>\n",
    "<b>superhost</b> ---\tdummy for hosts with the superhost status<br>\n",
    "<b>multi</b> ---\tdummy for listings offered by hosts with 2–4 listings<br>\n",
    "<b>biz</b> ---\tdummy for listings offered by hosts with more than 4 listings<br>\n",
    "<b>dist</b> ---\tdistance to the city centre in kilometres<br>\n",
    "<b>metro_dist</b> ---\tdistance to the closest metro station in kilometres<br>\n",
    "<b>attr_index</b> ---\tattraction index: scale to 100, measuring the accessibility to attractions<br>\n",
    "<b>rest_index</b> ---\trestaurant index: scale to 100, measuring the accessibility to restaurants<br>\n",
    "<b>lng</b> ---\tLongitude of the listing location<br>\n",
    "<b>lat</b> ---\tLatitude of the listing location<br>\n",
    "\n",
    "Ref:<br> \n",
    "Gyódi, K. and L. Nawaro (2021). Determinants of Airbnb prices in European cities: A spatial econometrics approach. Tourism Management, Vol. 86."
   ]
  },
  {
   "cell_type": "markdown",
   "id": "8b1d070f",
   "metadata": {},
   "source": [
    "1. Import the necessary packages."
   ]
  },
  {
   "cell_type": "code",
   "execution_count": 2,
   "id": "ec5fab6a",
   "metadata": {},
   "outputs": [],
   "source": [
    "import pandas as pd\n",
    "import statsmodels.api as sm\n",
    "import numpy as np\n",
    "import matplotlib.pyplot as plt\n",
    "import seaborn as sns"
   ]
  },
  {
   "cell_type": "markdown",
   "id": "ec2c60d6",
   "metadata": {},
   "source": [
    "It will import the necessary package required to perform linear regression in python, and statsmodels module provides classes and functions to estimate different statistical models."
   ]
  },
  {
   "cell_type": "markdown",
   "id": "4c043205",
   "metadata": {},
   "source": [
    "2. Read in the dataset, 'Barcelona.csv'. Display the data."
   ]
  },
  {
   "cell_type": "code",
   "execution_count": 3,
   "id": "ce825a29",
   "metadata": {},
   "outputs": [
    {
     "data": {
      "text/html": [
       "<div>\n",
       "<style scoped>\n",
       "    .dataframe tbody tr th:only-of-type {\n",
       "        vertical-align: middle;\n",
       "    }\n",
       "\n",
       "    .dataframe tbody tr th {\n",
       "        vertical-align: top;\n",
       "    }\n",
       "\n",
       "    .dataframe thead th {\n",
       "        text-align: right;\n",
       "    }\n",
       "</style>\n",
       "<table border=\"1\" class=\"dataframe\">\n",
       "  <thead>\n",
       "    <tr style=\"text-align: right;\">\n",
       "      <th></th>\n",
       "      <th>price</th>\n",
       "      <th>bedrooms</th>\n",
       "      <th>room_shared</th>\n",
       "      <th>room_private</th>\n",
       "      <th>person_capacity</th>\n",
       "      <th>superhost</th>\n",
       "      <th>multi</th>\n",
       "      <th>biz</th>\n",
       "      <th>cleanliness</th>\n",
       "      <th>guest_satisfaction</th>\n",
       "      <th>dist</th>\n",
       "      <th>metro_dist</th>\n",
       "      <th>attr_index</th>\n",
       "      <th>rest_index</th>\n",
       "      <th>lng</th>\n",
       "      <th>lat</th>\n",
       "    </tr>\n",
       "  </thead>\n",
       "  <tbody>\n",
       "    <tr>\n",
       "      <th>0</th>\n",
       "      <td>474.317499</td>\n",
       "      <td>1</td>\n",
       "      <td>False</td>\n",
       "      <td>False</td>\n",
       "      <td>4</td>\n",
       "      <td>False</td>\n",
       "      <td>0</td>\n",
       "      <td>1</td>\n",
       "      <td>10</td>\n",
       "      <td>91</td>\n",
       "      <td>1.111996</td>\n",
       "      <td>0.630491</td>\n",
       "      <td>17.942927</td>\n",
       "      <td>20.154890</td>\n",
       "      <td>2.17556</td>\n",
       "      <td>41.39624</td>\n",
       "    </tr>\n",
       "    <tr>\n",
       "      <th>1</th>\n",
       "      <td>169.897829</td>\n",
       "      <td>1</td>\n",
       "      <td>False</td>\n",
       "      <td>True</td>\n",
       "      <td>2</td>\n",
       "      <td>True</td>\n",
       "      <td>1</td>\n",
       "      <td>0</td>\n",
       "      <td>10</td>\n",
       "      <td>88</td>\n",
       "      <td>1.751839</td>\n",
       "      <td>0.124017</td>\n",
       "      <td>10.910462</td>\n",
       "      <td>17.484489</td>\n",
       "      <td>2.14906</td>\n",
       "      <td>41.38714</td>\n",
       "    </tr>\n",
       "    <tr>\n",
       "      <th>2</th>\n",
       "      <td>161.984779</td>\n",
       "      <td>1</td>\n",
       "      <td>False</td>\n",
       "      <td>True</td>\n",
       "      <td>4</td>\n",
       "      <td>False</td>\n",
       "      <td>0</td>\n",
       "      <td>1</td>\n",
       "      <td>9</td>\n",
       "      <td>88</td>\n",
       "      <td>1.670493</td>\n",
       "      <td>0.080322</td>\n",
       "      <td>11.726595</td>\n",
       "      <td>18.505814</td>\n",
       "      <td>2.15357</td>\n",
       "      <td>41.37859</td>\n",
       "    </tr>\n",
       "    <tr>\n",
       "      <th>3</th>\n",
       "      <td>367.956804</td>\n",
       "      <td>1</td>\n",
       "      <td>False</td>\n",
       "      <td>False</td>\n",
       "      <td>3</td>\n",
       "      <td>False</td>\n",
       "      <td>0</td>\n",
       "      <td>1</td>\n",
       "      <td>10</td>\n",
       "      <td>91</td>\n",
       "      <td>1.475847</td>\n",
       "      <td>0.093107</td>\n",
       "      <td>13.634603</td>\n",
       "      <td>20.837357</td>\n",
       "      <td>2.16839</td>\n",
       "      <td>41.37390</td>\n",
       "    </tr>\n",
       "    <tr>\n",
       "      <th>4</th>\n",
       "      <td>196.895292</td>\n",
       "      <td>1</td>\n",
       "      <td>False</td>\n",
       "      <td>True</td>\n",
       "      <td>3</td>\n",
       "      <td>False</td>\n",
       "      <td>1</td>\n",
       "      <td>0</td>\n",
       "      <td>9</td>\n",
       "      <td>91</td>\n",
       "      <td>1.855452</td>\n",
       "      <td>0.272486</td>\n",
       "      <td>11.793678</td>\n",
       "      <td>17.440874</td>\n",
       "      <td>2.15238</td>\n",
       "      <td>41.37699</td>\n",
       "    </tr>\n",
       "    <tr>\n",
       "      <th>5</th>\n",
       "      <td>330.951661</td>\n",
       "      <td>2</td>\n",
       "      <td>False</td>\n",
       "      <td>False</td>\n",
       "      <td>3</td>\n",
       "      <td>False</td>\n",
       "      <td>0</td>\n",
       "      <td>1</td>\n",
       "      <td>9</td>\n",
       "      <td>100</td>\n",
       "      <td>2.565611</td>\n",
       "      <td>0.701290</td>\n",
       "      <td>13.328889</td>\n",
       "      <td>11.568178</td>\n",
       "      <td>2.18197</td>\n",
       "      <td>41.40842</td>\n",
       "    </tr>\n",
       "    <tr>\n",
       "      <th>6</th>\n",
       "      <td>141.271208</td>\n",
       "      <td>1</td>\n",
       "      <td>False</td>\n",
       "      <td>True</td>\n",
       "      <td>3</td>\n",
       "      <td>False</td>\n",
       "      <td>0</td>\n",
       "      <td>1</td>\n",
       "      <td>9</td>\n",
       "      <td>86</td>\n",
       "      <td>1.648304</td>\n",
       "      <td>0.089427</td>\n",
       "      <td>11.676253</td>\n",
       "      <td>18.071120</td>\n",
       "      <td>2.15342</td>\n",
       "      <td>41.37912</td>\n",
       "    </tr>\n",
       "    <tr>\n",
       "      <th>7</th>\n",
       "      <td>173.388880</td>\n",
       "      <td>1</td>\n",
       "      <td>False</td>\n",
       "      <td>True</td>\n",
       "      <td>2</td>\n",
       "      <td>False</td>\n",
       "      <td>0</td>\n",
       "      <td>0</td>\n",
       "      <td>9</td>\n",
       "      <td>96</td>\n",
       "      <td>1.474228</td>\n",
       "      <td>0.590519</td>\n",
       "      <td>15.282387</td>\n",
       "      <td>16.570540</td>\n",
       "      <td>2.18195</td>\n",
       "      <td>41.39691</td>\n",
       "    </tr>\n",
       "    <tr>\n",
       "      <th>8</th>\n",
       "      <td>225.754649</td>\n",
       "      <td>1</td>\n",
       "      <td>False</td>\n",
       "      <td>True</td>\n",
       "      <td>4</td>\n",
       "      <td>False</td>\n",
       "      <td>1</td>\n",
       "      <td>0</td>\n",
       "      <td>9</td>\n",
       "      <td>84</td>\n",
       "      <td>0.962655</td>\n",
       "      <td>0.356134</td>\n",
       "      <td>26.988334</td>\n",
       "      <td>41.506420</td>\n",
       "      <td>2.17742</td>\n",
       "      <td>41.38050</td>\n",
       "    </tr>\n",
       "    <tr>\n",
       "      <th>9</th>\n",
       "      <td>150.580678</td>\n",
       "      <td>1</td>\n",
       "      <td>False</td>\n",
       "      <td>True</td>\n",
       "      <td>2</td>\n",
       "      <td>False</td>\n",
       "      <td>1</td>\n",
       "      <td>0</td>\n",
       "      <td>9</td>\n",
       "      <td>91</td>\n",
       "      <td>1.819600</td>\n",
       "      <td>0.285601</td>\n",
       "      <td>12.310252</td>\n",
       "      <td>17.747751</td>\n",
       "      <td>2.15700</td>\n",
       "      <td>41.37400</td>\n",
       "    </tr>\n",
       "  </tbody>\n",
       "</table>\n",
       "</div>"
      ],
      "text/plain": [
       "        price  bedrooms  room_shared  room_private  person_capacity  \\\n",
       "0  474.317499         1        False         False                4   \n",
       "1  169.897829         1        False          True                2   \n",
       "2  161.984779         1        False          True                4   \n",
       "3  367.956804         1        False         False                3   \n",
       "4  196.895292         1        False          True                3   \n",
       "5  330.951661         2        False         False                3   \n",
       "6  141.271208         1        False          True                3   \n",
       "7  173.388880         1        False          True                2   \n",
       "8  225.754649         1        False          True                4   \n",
       "9  150.580678         1        False          True                2   \n",
       "\n",
       "   superhost  multi  biz  cleanliness  guest_satisfaction      dist  \\\n",
       "0      False      0    1           10                  91  1.111996   \n",
       "1       True      1    0           10                  88  1.751839   \n",
       "2      False      0    1            9                  88  1.670493   \n",
       "3      False      0    1           10                  91  1.475847   \n",
       "4      False      1    0            9                  91  1.855452   \n",
       "5      False      0    1            9                 100  2.565611   \n",
       "6      False      0    1            9                  86  1.648304   \n",
       "7      False      0    0            9                  96  1.474228   \n",
       "8      False      1    0            9                  84  0.962655   \n",
       "9      False      1    0            9                  91  1.819600   \n",
       "\n",
       "   metro_dist  attr_index  rest_index      lng       lat  \n",
       "0    0.630491   17.942927   20.154890  2.17556  41.39624  \n",
       "1    0.124017   10.910462   17.484489  2.14906  41.38714  \n",
       "2    0.080322   11.726595   18.505814  2.15357  41.37859  \n",
       "3    0.093107   13.634603   20.837357  2.16839  41.37390  \n",
       "4    0.272486   11.793678   17.440874  2.15238  41.37699  \n",
       "5    0.701290   13.328889   11.568178  2.18197  41.40842  \n",
       "6    0.089427   11.676253   18.071120  2.15342  41.37912  \n",
       "7    0.590519   15.282387   16.570540  2.18195  41.39691  \n",
       "8    0.356134   26.988334   41.506420  2.17742  41.38050  \n",
       "9    0.285601   12.310252   17.747751  2.15700  41.37400  "
      ]
     },
     "execution_count": 3,
     "metadata": {},
     "output_type": "execute_result"
    }
   ],
   "source": [
    "barcelona = pd.read_csv('Barcelona.csv')\n",
    "barcelona.head(10)"
   ]
  },
  {
   "cell_type": "markdown",
   "id": "4b9bf2a6",
   "metadata": {},
   "source": [
    "The above code chunks will read the dataset 'Barcelona.csv' and will print the result as barcelona.\n",
    "barcelona.head() will fetch the 1st few rows the dataset,in this case it will fetch the first 10 rows."
   ]
  },
  {
   "cell_type": "markdown",
   "id": "0b258061",
   "metadata": {},
   "source": [
    "3. How many observations? Display the variable names."
   ]
  },
  {
   "cell_type": "code",
   "execution_count": 4,
   "id": "4ec9537a",
   "metadata": {},
   "outputs": [
    {
     "data": {
      "text/plain": [
       "(1555, 16)"
      ]
     },
     "execution_count": 4,
     "metadata": {},
     "output_type": "execute_result"
    }
   ],
   "source": [
    "# Define the observations i.e., how many rows and colums are there in the 'Barcelona.csv' dataset.\n",
    "barcelona.shape"
   ]
  },
  {
   "cell_type": "code",
   "execution_count": 5,
   "id": "9845b2f9",
   "metadata": {},
   "outputs": [
    {
     "data": {
      "text/plain": [
       "Index(['price', 'bedrooms', 'room_shared', 'room_private', 'person_capacity',\n",
       "       'superhost', 'multi', 'biz', 'cleanliness', 'guest_satisfaction',\n",
       "       'dist', 'metro_dist', 'attr_index', 'rest_index', 'lng', 'lat'],\n",
       "      dtype='object')"
      ]
     },
     "execution_count": 5,
     "metadata": {},
     "output_type": "execute_result"
    }
   ],
   "source": [
    "barcelona.columns"
   ]
  },
  {
   "cell_type": "markdown",
   "id": "bdb9063f",
   "metadata": {},
   "source": [
    "The code chunks provided above will print all the variable names."
   ]
  },
  {
   "cell_type": "markdown",
   "id": "e2981d17",
   "metadata": {},
   "source": [
    "4.1 Explore the variable 'price'. First, Let's find out the statistics using describe(). Then we use a graph to explore the distribution. What do you find?"
   ]
  },
  {
   "cell_type": "code",
   "execution_count": 6,
   "id": "7e59fc13",
   "metadata": {},
   "outputs": [
    {
     "data": {
      "text/plain": [
       "str"
      ]
     },
     "execution_count": 6,
     "metadata": {},
     "output_type": "execute_result"
    }
   ],
   "source": [
    "type('price') # class of the variable 'price'."
   ]
  },
  {
   "cell_type": "code",
   "execution_count": 7,
   "id": "e89875d6",
   "metadata": {},
   "outputs": [
    {
     "data": {
      "text/plain": [
       "count    1555.000000\n",
       "mean      288.391667\n",
       "std       321.180435\n",
       "min        69.588289\n",
       "25%       161.984779\n",
       "50%       208.532129\n",
       "75%       335.373659\n",
       "max      6943.700980\n",
       "Name: price, dtype: float64"
      ]
     },
     "execution_count": 7,
     "metadata": {},
     "output_type": "execute_result"
    }
   ],
   "source": [
    "price_stats = barcelona['price'].describe()\n",
    "price_stats"
   ]
  },
  {
   "cell_type": "markdown",
   "id": "c6ca9547",
   "metadata": {},
   "source": [
    "Here, we are exploring the statistical aspect of the variable 'Price'.This calculate the statistics (mean, standard deviation, minimum, 25th percentile, median, 75th percentile, and maximum) for the 'Price' variable using the describe() method."
   ]
  },
  {
   "cell_type": "code",
   "execution_count": 8,
   "id": "b3894973",
   "metadata": {},
   "outputs": [
    {
     "data": {
      "text/plain": [
       "<Figure size 1000x600 with 0 Axes>"
      ]
     },
     "execution_count": 8,
     "metadata": {},
     "output_type": "execute_result"
    },
    {
     "data": {
      "text/plain": [
       "<Axes: xlabel='price', ylabel='Count'>"
      ]
     },
     "execution_count": 8,
     "metadata": {},
     "output_type": "execute_result"
    },
    {
     "data": {
      "text/plain": [
       "Text(0.5, 1.0, 'Distribution of Price for Airbnbs at Barcelona & Spain')"
      ]
     },
     "execution_count": 8,
     "metadata": {},
     "output_type": "execute_result"
    },
    {
     "data": {
      "text/plain": [
       "Text(0.5, 0, 'Price (Euros)')"
      ]
     },
     "execution_count": 8,
     "metadata": {},
     "output_type": "execute_result"
    },
    {
     "data": {
      "text/plain": [
       "Text(0, 0.5, 'Frequency')"
      ]
     },
     "execution_count": 8,
     "metadata": {},
     "output_type": "execute_result"
    },
    {
     "data": {
      "image/png": "[encoded data removed]",
      "text/plain": [
       "<Figure size 1000x600 with 1 Axes>"
      ]
     },
     "metadata": {},
     "output_type": "display_data"
    }
   ],
   "source": [
    "plt.figure(figsize=(10, 6))\n",
    "custom_colors = ['lightgreen', 'mediumgreen', 'darkgreen', 'green']\n",
    "sns.histplot(barcelona['price'], bins=30, kde=True, color ='green')\n",
    "plt.title('Distribution of Price for Airbnbs at Barcelona & Spain')\n",
    "plt.xlabel('Price (Euros)')\n",
    "plt.ylabel('Frequency')\n",
    "plt.grid(True)\n",
    "plt.show()\n",
    "#Bins: 30\n",
    "#Interpretation: The data range is divided into 30 intervals.\n",
    "#Visual Effect: The resulting histogram will have 30 bars."
   ]
  },
  {
   "cell_type": "markdown",
   "id": "ee138de7",
   "metadata": {},
   "source": [
    "This histogram provides the distribution of the price for the Airbnbs'in Barcelona and Spain,the spread of the histogram indicates the variability in prices across the 'Barcelona.csv dataset'. The graph is skewed to the right (positive skew), suggests that prices are concentrated towards the lower end. This graph is plotted without the removal of outliers."
   ]
  },
  {
   "cell_type": "markdown",
   "id": "662d7d0c",
   "metadata": {},
   "source": [
    "4.2 We decide to remove the price outliers (defined as three standard deviation away from the mean) and repeat the graph. What do you find?"
   ]
  },
  {
   "cell_type": "code",
   "execution_count": 9,
   "id": "73e4482f",
   "metadata": {},
   "outputs": [
    {
     "data": {
      "text/plain": [
       "103090.53317038735"
      ]
     },
     "execution_count": 9,
     "metadata": {},
     "output_type": "execute_result"
    }
   ],
   "source": [
    "np.var(barcelona['price']) # variance of the variable 'price'."
   ]
  },
  {
   "cell_type": "code",
   "execution_count": 10,
   "id": "c81ccced",
   "metadata": {},
   "outputs": [
    {
     "data": {
      "text/plain": [
       "288.39166706715116"
      ]
     },
     "execution_count": 10,
     "metadata": {},
     "output_type": "execute_result"
    }
   ],
   "source": [
    "mean_price = barcelona['price'].mean()\n",
    "mean_price\n",
    "# 'mean()' will calculate the average of the price variable."
   ]
  },
  {
   "cell_type": "code",
   "execution_count": 11,
   "id": "14b10cbe",
   "metadata": {},
   "outputs": [
    {
     "data": {
      "text/plain": [
       "321.1804352615852"
      ]
     },
     "execution_count": 11,
     "metadata": {},
     "output_type": "execute_result"
    }
   ],
   "source": [
    "std_dev_price = barcelona['price'].std()\n",
    "std_dev_price\n",
    "# 'std()', This code will calculate the standard deviation of the price variable."
   ]
  },
  {
   "cell_type": "code",
   "execution_count": 12,
   "id": "9fcd71c9",
   "metadata": {},
   "outputs": [
    {
     "data": {
      "text/plain": [
       "1251.932972851907"
      ]
     },
     "execution_count": 12,
     "metadata": {},
     "output_type": "execute_result"
    }
   ],
   "source": [
    "low_up = barcelona['price'].mean() + 3 * barcelona['price'].std()\n",
    "low_up"
   ]
  },
  {
   "cell_type": "markdown",
   "id": "505230da",
   "metadata": {},
   "source": [
    "The above code chunks will define the upper_bound for identifying outliers.'low_up' contains the upper limit of a 3-sigma confidence interval for the 'price' variable in the 'barcelona' dataset. Any data point above this upper limit may be considered an outlier."
   ]
  },
  {
   "cell_type": "code",
   "execution_count": 13,
   "id": "171c4437",
   "metadata": {},
   "outputs": [
    {
     "data": {
      "text/html": [
       "<div>\n",
       "<style scoped>\n",
       "    .dataframe tbody tr th:only-of-type {\n",
       "        vertical-align: middle;\n",
       "    }\n",
       "\n",
       "    .dataframe tbody tr th {\n",
       "        vertical-align: top;\n",
       "    }\n",
       "\n",
       "    .dataframe thead th {\n",
       "        text-align: right;\n",
       "    }\n",
       "</style>\n",
       "<table border=\"1\" class=\"dataframe\">\n",
       "  <thead>\n",
       "    <tr style=\"text-align: right;\">\n",
       "      <th></th>\n",
       "      <th>price</th>\n",
       "      <th>bedrooms</th>\n",
       "      <th>room_shared</th>\n",
       "      <th>room_private</th>\n",
       "      <th>person_capacity</th>\n",
       "      <th>superhost</th>\n",
       "      <th>multi</th>\n",
       "      <th>biz</th>\n",
       "      <th>cleanliness</th>\n",
       "      <th>guest_satisfaction</th>\n",
       "      <th>dist</th>\n",
       "      <th>metro_dist</th>\n",
       "      <th>attr_index</th>\n",
       "      <th>rest_index</th>\n",
       "      <th>lng</th>\n",
       "      <th>lat</th>\n",
       "    </tr>\n",
       "  </thead>\n",
       "  <tbody>\n",
       "    <tr>\n",
       "      <th>0</th>\n",
       "      <td>474.317499</td>\n",
       "      <td>1</td>\n",
       "      <td>False</td>\n",
       "      <td>False</td>\n",
       "      <td>4</td>\n",
       "      <td>False</td>\n",
       "      <td>0</td>\n",
       "      <td>1</td>\n",
       "      <td>10</td>\n",
       "      <td>91</td>\n",
       "      <td>1.111996</td>\n",
       "      <td>0.630491</td>\n",
       "      <td>17.942927</td>\n",
       "      <td>20.154890</td>\n",
       "      <td>2.17556</td>\n",
       "      <td>41.39624</td>\n",
       "    </tr>\n",
       "    <tr>\n",
       "      <th>1</th>\n",
       "      <td>169.897829</td>\n",
       "      <td>1</td>\n",
       "      <td>False</td>\n",
       "      <td>True</td>\n",
       "      <td>2</td>\n",
       "      <td>True</td>\n",
       "      <td>1</td>\n",
       "      <td>0</td>\n",
       "      <td>10</td>\n",
       "      <td>88</td>\n",
       "      <td>1.751839</td>\n",
       "      <td>0.124017</td>\n",
       "      <td>10.910462</td>\n",
       "      <td>17.484489</td>\n",
       "      <td>2.14906</td>\n",
       "      <td>41.38714</td>\n",
       "    </tr>\n",
       "    <tr>\n",
       "      <th>2</th>\n",
       "      <td>161.984779</td>\n",
       "      <td>1</td>\n",
       "      <td>False</td>\n",
       "      <td>True</td>\n",
       "      <td>4</td>\n",
       "      <td>False</td>\n",
       "      <td>0</td>\n",
       "      <td>1</td>\n",
       "      <td>9</td>\n",
       "      <td>88</td>\n",
       "      <td>1.670493</td>\n",
       "      <td>0.080322</td>\n",
       "      <td>11.726595</td>\n",
       "      <td>18.505814</td>\n",
       "      <td>2.15357</td>\n",
       "      <td>41.37859</td>\n",
       "    </tr>\n",
       "    <tr>\n",
       "      <th>3</th>\n",
       "      <td>367.956804</td>\n",
       "      <td>1</td>\n",
       "      <td>False</td>\n",
       "      <td>False</td>\n",
       "      <td>3</td>\n",
       "      <td>False</td>\n",
       "      <td>0</td>\n",
       "      <td>1</td>\n",
       "      <td>10</td>\n",
       "      <td>91</td>\n",
       "      <td>1.475847</td>\n",
       "      <td>0.093107</td>\n",
       "      <td>13.634603</td>\n",
       "      <td>20.837357</td>\n",
       "      <td>2.16839</td>\n",
       "      <td>41.37390</td>\n",
       "    </tr>\n",
       "    <tr>\n",
       "      <th>4</th>\n",
       "      <td>196.895292</td>\n",
       "      <td>1</td>\n",
       "      <td>False</td>\n",
       "      <td>True</td>\n",
       "      <td>3</td>\n",
       "      <td>False</td>\n",
       "      <td>1</td>\n",
       "      <td>0</td>\n",
       "      <td>9</td>\n",
       "      <td>91</td>\n",
       "      <td>1.855452</td>\n",
       "      <td>0.272486</td>\n",
       "      <td>11.793678</td>\n",
       "      <td>17.440874</td>\n",
       "      <td>2.15238</td>\n",
       "      <td>41.37699</td>\n",
       "    </tr>\n",
       "    <tr>\n",
       "      <th>...</th>\n",
       "      <td>...</td>\n",
       "      <td>...</td>\n",
       "      <td>...</td>\n",
       "      <td>...</td>\n",
       "      <td>...</td>\n",
       "      <td>...</td>\n",
       "      <td>...</td>\n",
       "      <td>...</td>\n",
       "      <td>...</td>\n",
       "      <td>...</td>\n",
       "      <td>...</td>\n",
       "      <td>...</td>\n",
       "      <td>...</td>\n",
       "      <td>...</td>\n",
       "      <td>...</td>\n",
       "      <td>...</td>\n",
       "    </tr>\n",
       "    <tr>\n",
       "      <th>1549</th>\n",
       "      <td>300.928620</td>\n",
       "      <td>1</td>\n",
       "      <td>False</td>\n",
       "      <td>True</td>\n",
       "      <td>2</td>\n",
       "      <td>False</td>\n",
       "      <td>0</td>\n",
       "      <td>0</td>\n",
       "      <td>10</td>\n",
       "      <td>100</td>\n",
       "      <td>2.394839</td>\n",
       "      <td>0.954952</td>\n",
       "      <td>9.709902</td>\n",
       "      <td>12.430326</td>\n",
       "      <td>2.19590</td>\n",
       "      <td>41.39637</td>\n",
       "    </tr>\n",
       "    <tr>\n",
       "      <th>1550</th>\n",
       "      <td>769.660437</td>\n",
       "      <td>3</td>\n",
       "      <td>False</td>\n",
       "      <td>False</td>\n",
       "      <td>6</td>\n",
       "      <td>False</td>\n",
       "      <td>0</td>\n",
       "      <td>1</td>\n",
       "      <td>8</td>\n",
       "      <td>84</td>\n",
       "      <td>2.503374</td>\n",
       "      <td>0.554007</td>\n",
       "      <td>9.075307</td>\n",
       "      <td>14.946029</td>\n",
       "      <td>2.19991</td>\n",
       "      <td>41.38834</td>\n",
       "    </tr>\n",
       "    <tr>\n",
       "      <th>1551</th>\n",
       "      <td>318.151139</td>\n",
       "      <td>1</td>\n",
       "      <td>False</td>\n",
       "      <td>True</td>\n",
       "      <td>2</td>\n",
       "      <td>True</td>\n",
       "      <td>1</td>\n",
       "      <td>0</td>\n",
       "      <td>9</td>\n",
       "      <td>98</td>\n",
       "      <td>2.619616</td>\n",
       "      <td>0.761843</td>\n",
       "      <td>8.747713</td>\n",
       "      <td>12.276081</td>\n",
       "      <td>2.20066</td>\n",
       "      <td>41.39204</td>\n",
       "    </tr>\n",
       "    <tr>\n",
       "      <th>1552</th>\n",
       "      <td>248.562851</td>\n",
       "      <td>1</td>\n",
       "      <td>False</td>\n",
       "      <td>True</td>\n",
       "      <td>2</td>\n",
       "      <td>True</td>\n",
       "      <td>1</td>\n",
       "      <td>0</td>\n",
       "      <td>10</td>\n",
       "      <td>98</td>\n",
       "      <td>2.700091</td>\n",
       "      <td>0.866258</td>\n",
       "      <td>8.538490</td>\n",
       "      <td>11.868058</td>\n",
       "      <td>2.20140</td>\n",
       "      <td>41.39286</td>\n",
       "    </tr>\n",
       "    <tr>\n",
       "      <th>1554</th>\n",
       "      <td>543.905788</td>\n",
       "      <td>1</td>\n",
       "      <td>False</td>\n",
       "      <td>False</td>\n",
       "      <td>4</td>\n",
       "      <td>False</td>\n",
       "      <td>1</td>\n",
       "      <td>0</td>\n",
       "      <td>9</td>\n",
       "      <td>94</td>\n",
       "      <td>2.403086</td>\n",
       "      <td>0.607264</td>\n",
       "      <td>9.435073</td>\n",
       "      <td>12.871337</td>\n",
       "      <td>2.19796</td>\n",
       "      <td>41.39219</td>\n",
       "    </tr>\n",
       "  </tbody>\n",
       "</table>\n",
       "<p>1548 rows × 16 columns</p>\n",
       "</div>"
      ],
      "text/plain": [
       "           price  bedrooms  room_shared  room_private  person_capacity  \\\n",
       "0     474.317499         1        False         False                4   \n",
       "1     169.897829         1        False          True                2   \n",
       "2     161.984779         1        False          True                4   \n",
       "3     367.956804         1        False         False                3   \n",
       "4     196.895292         1        False          True                3   \n",
       "...          ...       ...          ...           ...              ...   \n",
       "1549  300.928620         1        False          True                2   \n",
       "1550  769.660437         3        False         False                6   \n",
       "1551  318.151139         1        False          True                2   \n",
       "1552  248.562851         1        False          True                2   \n",
       "1554  543.905788         1        False         False                4   \n",
       "\n",
       "      superhost  multi  biz  cleanliness  guest_satisfaction      dist  \\\n",
       "0         False      0    1           10                  91  1.111996   \n",
       "1          True      1    0           10                  88  1.751839   \n",
       "2         False      0    1            9                  88  1.670493   \n",
       "3         False      0    1           10                  91  1.475847   \n",
       "4         False      1    0            9                  91  1.855452   \n",
       "...         ...    ...  ...          ...                 ...       ...   \n",
       "1549      False      0    0           10                 100  2.394839   \n",
       "1550      False      0    1            8                  84  2.503374   \n",
       "1551       True      1    0            9                  98  2.619616   \n",
       "1552       True      1    0           10                  98  2.700091   \n",
       "1554      False      1    0            9                  94  2.403086   \n",
       "\n",
       "      metro_dist  attr_index  rest_index      lng       lat  \n",
       "0       0.630491   17.942927   20.154890  2.17556  41.39624  \n",
       "1       0.124017   10.910462   17.484489  2.14906  41.38714  \n",
       "2       0.080322   11.726595   18.505814  2.15357  41.37859  \n",
       "3       0.093107   13.634603   20.837357  2.16839  41.37390  \n",
       "4       0.272486   11.793678   17.440874  2.15238  41.37699  \n",
       "...          ...         ...         ...      ...       ...  \n",
       "1549    0.954952    9.709902   12.430326  2.19590  41.39637  \n",
       "1550    0.554007    9.075307   14.946029  2.19991  41.38834  \n",
       "1551    0.761843    8.747713   12.276081  2.20066  41.39204  \n",
       "1552    0.866258    8.538490   11.868058  2.20140  41.39286  \n",
       "1554    0.607264    9.435073   12.871337  2.19796  41.39219  \n",
       "\n",
       "[1548 rows x 16 columns]"
      ]
     },
     "execution_count": 13,
     "metadata": {},
     "output_type": "execute_result"
    }
   ],
   "source": [
    "normal_price = barcelona[barcelona['price']<1251.932972851907]\n",
    "normal_price"
   ]
  },
  {
   "cell_type": "code",
   "execution_count": 14,
   "id": "943fc05f",
   "metadata": {},
   "outputs": [
    {
     "data": {
      "text/plain": [
       "(1548, 16)"
      ]
     },
     "execution_count": 14,
     "metadata": {},
     "output_type": "execute_result"
    }
   ],
   "source": [
    "normal_price.shape"
   ]
  },
  {
   "cell_type": "markdown",
   "id": "b86cb5b2",
   "metadata": {},
   "source": [
    "The above code shows that 'price' of the Airbnbs' fall within the range of lower bound and upper bound specified by removing the outliers."
   ]
  },
  {
   "cell_type": "code",
   "execution_count": 15,
   "id": "c1b78e5e",
   "metadata": {},
   "outputs": [
    {
     "data": {
      "text/plain": [
       "<Figure size 1000x600 with 0 Axes>"
      ]
     },
     "execution_count": 15,
     "metadata": {},
     "output_type": "execute_result"
    },
    {
     "data": {
      "text/plain": [
       "<Axes: xlabel='price', ylabel='Count'>"
      ]
     },
     "execution_count": 15,
     "metadata": {},
     "output_type": "execute_result"
    },
    {
     "data": {
      "text/plain": [
       "Text(0.5, 1.0, 'Histogram of Price (Outliers Removed)')"
      ]
     },
     "execution_count": 15,
     "metadata": {},
     "output_type": "execute_result"
    },
    {
     "data": {
      "text/plain": [
       "Text(0.5, 0, 'Price (Euros)')"
      ]
     },
     "execution_count": 15,
     "metadata": {},
     "output_type": "execute_result"
    },
    {
     "data": {
      "text/plain": [
       "Text(0, 0.5, 'Frequency')"
      ]
     },
     "execution_count": 15,
     "metadata": {},
     "output_type": "execute_result"
    },
    {
     "data": {
      "image/png": "[encoded data removed]",
      "text/plain": [
       "<Figure size 1000x600 with 1 Axes>"
      ]
     },
     "metadata": {},
     "output_type": "display_data"
    }
   ],
   "source": [
    "plt.figure(figsize=(10, 6))\n",
    "sns.histplot(normal_price['price'], bins=30, kde=True, color ='pink')\n",
    "plt.title('Histogram of Price (Outliers Removed)')\n",
    "plt.xlabel('Price (Euros)')\n",
    "plt.ylabel('Frequency')\n",
    "plt.grid(True)\n",
    "plt.show()"
   ]
  },
  {
   "cell_type": "markdown",
   "id": "e0418dd5",
   "metadata": {},
   "source": [
    "This histogram provides the distribution of the prices for Airbnbs'listings in Barcelona and Spain after the outliers has been removed. "
   ]
  },
  {
   "cell_type": "markdown",
   "id": "c2b91280",
   "metadata": {},
   "source": [
    "5. How many superhosts are there? Create a graph to display as well."
   ]
  },
  {
   "cell_type": "code",
   "execution_count": 16,
   "id": "6e1320b7",
   "metadata": {},
   "outputs": [
    {
     "data": {
      "text/plain": [
       "superhost\n",
       "False    1269\n",
       "True      279\n",
       "Name: count, dtype: int64"
      ]
     },
     "execution_count": 16,
     "metadata": {},
     "output_type": "execute_result"
    }
   ],
   "source": [
    "superhost_count = normal_price['superhost'].value_counts()\n",
    "superhost_count"
   ]
  },
  {
   "cell_type": "markdown",
   "id": "0773adfd",
   "metadata": {},
   "source": [
    "The above code provides the number of counts for superhosts in the dataset. That is the count is 1555 and the datatype is boolean - 'True', 'False'."
   ]
  },
  {
   "cell_type": "code",
   "execution_count": 17,
   "id": "223ecf6d",
   "metadata": {},
   "outputs": [
    {
     "data": {
      "text/plain": [
       "<Figure size 600x400 with 0 Axes>"
      ]
     },
     "execution_count": 17,
     "metadata": {},
     "output_type": "execute_result"
    },
    {
     "data": {
      "text/plain": [
       "<Axes: xlabel='superhost'>"
      ]
     },
     "execution_count": 17,
     "metadata": {},
     "output_type": "execute_result"
    },
    {
     "data": {
      "text/plain": [
       "Text(0.5, 1.0, 'Distribution of Superhost')"
      ]
     },
     "execution_count": 17,
     "metadata": {},
     "output_type": "execute_result"
    },
    {
     "data": {
      "text/plain": [
       "Text(0.5, 0, 'Superhost')"
      ]
     },
     "execution_count": 17,
     "metadata": {},
     "output_type": "execute_result"
    },
    {
     "data": {
      "text/plain": [
       "Text(0, 0.5, 'Count')"
      ]
     },
     "execution_count": 17,
     "metadata": {},
     "output_type": "execute_result"
    },
    {
     "data": {
      "image/png": "[encoded data removed]",
      "text/plain": [
       "<Figure size 600x400 with 1 Axes>"
      ]
     },
     "metadata": {},
     "output_type": "display_data"
    }
   ],
   "source": [
    "plt.figure(figsize=(6, 4))\n",
    "superhost_count.plot(kind = 'bar', color ='orange', edgecolor = 'black')\n",
    "plt.title('Distribution of Superhost')\n",
    "plt.xlabel('Superhost')\n",
    "plt.ylabel('Count')\n",
    "plt.show()"
   ]
  },
  {
   "cell_type": "markdown",
   "id": "ea9be9a9",
   "metadata": {},
   "source": [
    "While the value_counts summary gives the exact counts of each superhost, This plot help us understand the distribution of superhost for the Airbnbs in 'Barcelona.csv' dataset.The bar plot provides a visual representation of the count of each superhost. From the graph, the bar plot displays the count of listings categorized as superhosts versus non-superhosts. "
   ]
  },
  {
   "cell_type": "markdown",
   "id": "3943c631",
   "metadata": {},
   "source": [
    "6. Is there possible correlation between the distance to the closest metro station and price?"
   ]
  },
  {
   "cell_type": "code",
   "execution_count": 18,
   "id": "7a1e1d15",
   "metadata": {},
   "outputs": [
    {
     "data": {
      "text/plain": [
       "-0.03942016657108458"
      ]
     },
     "execution_count": 18,
     "metadata": {},
     "output_type": "execute_result"
    }
   ],
   "source": [
    "correlation_coeff = normal_price['metro_dist'].corr(normal_price['price'])\n",
    "correlation_coeff\n",
    "# Calculates the correlation coefficient between the variable 'metro_dist' and 'price'."
   ]
  },
  {
   "cell_type": "markdown",
   "id": "49f9ab02",
   "metadata": {},
   "source": [
    "The correlation coefficient calculated is -0.03942016657108458, The negative sign of the correlation coefficient indicates a negative correlation. This means that as one variable increases, the other variable tends to decrease slightly. However, the strength of this relationship is almost negligible.The correlation coefficient is very close to 0, indicating an extremely weak correlation. This suggests that distance to the closest metro station (metro_dist) is not a significant factor influencing the price (price) in this dataset. "
   ]
  },
  {
   "cell_type": "code",
   "execution_count": 19,
   "id": "dc21f48f",
   "metadata": {},
   "outputs": [
    {
     "data": {
      "text/plain": [
       "<Figure size 800x600 with 0 Axes>"
      ]
     },
     "execution_count": 19,
     "metadata": {},
     "output_type": "execute_result"
    },
    {
     "data": {
      "text/plain": [
       "<Axes: xlabel='metro_dist', ylabel='price'>"
      ]
     },
     "execution_count": 19,
     "metadata": {},
     "output_type": "execute_result"
    },
    {
     "data": {
      "text/plain": [
       "<Axes: xlabel='metro_dist', ylabel='price'>"
      ]
     },
     "execution_count": 19,
     "metadata": {},
     "output_type": "execute_result"
    },
    {
     "data": {
      "text/plain": [
       "Text(0.5, 1.0, 'Scatterplot of Metro Distance vs. Price')"
      ]
     },
     "execution_count": 19,
     "metadata": {},
     "output_type": "execute_result"
    },
    {
     "data": {
      "text/plain": [
       "Text(0.5, 0, 'Metro Distance')"
      ]
     },
     "execution_count": 19,
     "metadata": {},
     "output_type": "execute_result"
    },
    {
     "data": {
      "text/plain": [
       "Text(0, 0.5, 'Price')"
      ]
     },
     "execution_count": 19,
     "metadata": {},
     "output_type": "execute_result"
    },
    {
     "data": {
      "image/png": "[encoded data removed]",
      "text/plain": [
       "<Figure size 800x600 with 1 Axes>"
      ]
     },
     "metadata": {},
     "output_type": "display_data"
    }
   ],
   "source": [
    "plt.figure(figsize=(8, 6))\n",
    "sns.regplot(x = 'metro_dist',y ='price', data = normal_price, line_kws={'color':'red'})\n",
    "sns.scatterplot(x='metro_dist', y='price', hue='price', data=normal_price, palette='viridis', alpha=0.7)\n",
    "plt.title('Scatterplot of Metro Distance vs. Price')\n",
    "plt.xlabel('Metro Distance')\n",
    "plt.ylabel('Price')\n",
    "plt.grid(True)\n",
    "plt.show()"
   ]
  },
  {
   "cell_type": "markdown",
   "id": "6b530430",
   "metadata": {},
   "source": [
    "The code suggests visualizing the relationship between the distance to the closest metro station and the price of listings in Barcelona. The scatterplot with the regression line helps to assess the direction and strength of this relationship between the closest metro station and the price. We can see that the listing price of the Airbnbs' is falling as the distance of the metro station is increasing."
   ]
  },
  {
   "cell_type": "markdown",
   "id": "dbd07efa",
   "metadata": {},
   "source": [
    "7. Run a linear regression model with the dataset. 'price' is the target variable and all other features (except longitude and latitude) as predictor variables. Follow the steps we have practiced in class. Display the results.<br>\n",
    "    Hint: You need to turn True/False Boolean variables (room_private, room_shared, and superhost) into 1/0 before applying statsmodels models. You can use .astype(int). Remember to save the changes by assigning the changed outcome back to the variable, such as <i>car['price'] = car['price']/1000</i>."
   ]
  },
  {
   "cell_type": "code",
   "execution_count": 25,
   "id": "eca68648",
   "metadata": {},
   "outputs": [
    {
     "data": {
      "text/html": [
       "<table class=\"simpletable\">\n",
       "<caption>OLS Regression Results</caption>\n",
       "<tr>\n",
       "  <th>Dep. Variable:</th>          <td>price</td>      <th>  R-squared:         </th> <td>   0.693</td> \n",
       "</tr>\n",
       "<tr>\n",
       "  <th>Model:</th>                   <td>OLS</td>       <th>  Adj. R-squared:    </th> <td>   0.691</td> \n",
       "</tr>\n",
       "<tr>\n",
       "  <th>Method:</th>             <td>Least Squares</td>  <th>  F-statistic:       </th> <td>   266.7</td> \n",
       "</tr>\n",
       "<tr>\n",
       "  <th>Date:</th>             <td>Mon, 19 Feb 2024</td> <th>  Prob (F-statistic):</th>  <td>  0.00</td>  \n",
       "</tr>\n",
       "<tr>\n",
       "  <th>Time:</th>                 <td>14:38:59</td>     <th>  Log-Likelihood:    </th> <td> -9274.5</td> \n",
       "</tr>\n",
       "<tr>\n",
       "  <th>No. Observations:</th>      <td>  1548</td>      <th>  AIC:               </th> <td>1.858e+04</td>\n",
       "</tr>\n",
       "<tr>\n",
       "  <th>Df Residuals:</th>          <td>  1534</td>      <th>  BIC:               </th> <td>1.865e+04</td>\n",
       "</tr>\n",
       "<tr>\n",
       "  <th>Df Model:</th>              <td>    13</td>      <th>                     </th>     <td> </td>    \n",
       "</tr>\n",
       "<tr>\n",
       "  <th>Covariance Type:</th>      <td>nonrobust</td>    <th>                     </th>     <td> </td>    \n",
       "</tr>\n",
       "</table>\n",
       "<table class=\"simpletable\">\n",
       "<tr>\n",
       "           <td></td>             <th>coef</th>     <th>std err</th>      <th>t</th>      <th>P>|t|</th>  <th>[0.025</th>    <th>0.975]</th>  \n",
       "</tr>\n",
       "<tr>\n",
       "  <th>const</th>              <td>   96.4191</td> <td>   35.751</td> <td>    2.697</td> <td> 0.007</td> <td>   26.294</td> <td>  166.545</td>\n",
       "</tr>\n",
       "<tr>\n",
       "  <th>bedrooms</th>           <td>   38.0055</td> <td>    6.858</td> <td>    5.542</td> <td> 0.000</td> <td>   24.553</td> <td>   51.458</td>\n",
       "</tr>\n",
       "<tr>\n",
       "  <th>room_shared</th>        <td> -270.6826</td> <td>   35.552</td> <td>   -7.614</td> <td> 0.000</td> <td> -340.418</td> <td> -200.947</td>\n",
       "</tr>\n",
       "<tr>\n",
       "  <th>room_private</th>       <td> -169.8302</td> <td>    9.195</td> <td>  -18.470</td> <td> 0.000</td> <td> -187.866</td> <td> -151.794</td>\n",
       "</tr>\n",
       "<tr>\n",
       "  <th>person_capacity</th>    <td>   47.5661</td> <td>    3.574</td> <td>   13.310</td> <td> 0.000</td> <td>   40.556</td> <td>   54.576</td>\n",
       "</tr>\n",
       "<tr>\n",
       "  <th>superhost</th>          <td>   15.5403</td> <td>    6.797</td> <td>    2.286</td> <td> 0.022</td> <td>    2.207</td> <td>   28.873</td>\n",
       "</tr>\n",
       "<tr>\n",
       "  <th>multi</th>              <td>   -3.8143</td> <td>    6.241</td> <td>   -0.611</td> <td> 0.541</td> <td>  -16.056</td> <td>    8.428</td>\n",
       "</tr>\n",
       "<tr>\n",
       "  <th>biz</th>                <td>   19.1618</td> <td>    7.005</td> <td>    2.736</td> <td> 0.006</td> <td>    5.422</td> <td>   32.901</td>\n",
       "</tr>\n",
       "<tr>\n",
       "  <th>cleanliness</th>        <td>   -2.7610</td> <td>    3.567</td> <td>   -0.774</td> <td> 0.439</td> <td>   -9.757</td> <td>    4.235</td>\n",
       "</tr>\n",
       "<tr>\n",
       "  <th>guest_satisfaction</th> <td>    1.5329</td> <td>    0.425</td> <td>    3.609</td> <td> 0.000</td> <td>    0.700</td> <td>    2.366</td>\n",
       "</tr>\n",
       "<tr>\n",
       "  <th>dist</th>               <td>  -10.6433</td> <td>    3.450</td> <td>   -3.085</td> <td> 0.002</td> <td>  -17.411</td> <td>   -3.876</td>\n",
       "</tr>\n",
       "<tr>\n",
       "  <th>metro_dist</th>         <td>   23.3560</td> <td>   10.040</td> <td>    2.326</td> <td> 0.020</td> <td>    3.662</td> <td>   43.051</td>\n",
       "</tr>\n",
       "<tr>\n",
       "  <th>attr_index</th>         <td>    0.6253</td> <td>    0.387</td> <td>    1.614</td> <td> 0.107</td> <td>   -0.135</td> <td>    1.385</td>\n",
       "</tr>\n",
       "<tr>\n",
       "  <th>rest_index</th>         <td>    0.6377</td> <td>    0.479</td> <td>    1.332</td> <td> 0.183</td> <td>   -0.301</td> <td>    1.577</td>\n",
       "</tr>\n",
       "</table>\n",
       "<table class=\"simpletable\">\n",
       "<tr>\n",
       "  <th>Omnibus:</th>       <td>561.132</td> <th>  Durbin-Watson:     </th> <td>   1.657</td>\n",
       "</tr>\n",
       "<tr>\n",
       "  <th>Prob(Omnibus):</th> <td> 0.000</td>  <th>  Jarque-Bera (JB):  </th> <td>3437.329</td>\n",
       "</tr>\n",
       "<tr>\n",
       "  <th>Skew:</th>          <td> 1.562</td>  <th>  Prob(JB):          </th> <td>    0.00</td>\n",
       "</tr>\n",
       "<tr>\n",
       "  <th>Kurtosis:</th>      <td> 9.598</td>  <th>  Cond. No.          </th> <td>1.41e+03</td>\n",
       "</tr>\n",
       "</table><br/><br/>Notes:<br/>[1] Standard Errors assume that the covariance matrix of the errors is correctly specified.<br/>[2] The condition number is large, 1.41e+03. This might indicate that there are<br/>strong multicollinearity or other numerical problems."
      ],
      "text/latex": [
       "\\begin{center}\n",
       "\\begin{tabular}{lclc}\n",
       "\\toprule\n",
       "\\textbf{Dep. Variable:}      &      price       & \\textbf{  R-squared:         } &     0.693   \\\\\n",
       "\\textbf{Model:}              &       OLS        & \\textbf{  Adj. R-squared:    } &     0.691   \\\\\n",
       "\\textbf{Method:}             &  Least Squares   & \\textbf{  F-statistic:       } &     266.7   \\\\\n",
       "\\textbf{Date:}               & Mon, 19 Feb 2024 & \\textbf{  Prob (F-statistic):} &     0.00    \\\\\n",
       "\\textbf{Time:}               &     14:38:59     & \\textbf{  Log-Likelihood:    } &   -9274.5   \\\\\n",
       "\\textbf{No. Observations:}   &        1548      & \\textbf{  AIC:               } & 1.858e+04   \\\\\n",
       "\\textbf{Df Residuals:}       &        1534      & \\textbf{  BIC:               } & 1.865e+04   \\\\\n",
       "\\textbf{Df Model:}           &          13      & \\textbf{                     } &             \\\\\n",
       "\\textbf{Covariance Type:}    &    nonrobust     & \\textbf{                     } &             \\\\\n",
       "\\bottomrule\n",
       "\\end{tabular}\n",
       "\\begin{tabular}{lcccccc}\n",
       "                             & \\textbf{coef} & \\textbf{std err} & \\textbf{t} & \\textbf{P$> |$t$|$} & \\textbf{[0.025} & \\textbf{0.975]}  \\\\\n",
       "\\midrule\n",
       "\\textbf{const}               &      96.4191  &       35.751     &     2.697  &         0.007        &       26.294    &      166.545     \\\\\n",
       "\\textbf{bedrooms}            &      38.0055  &        6.858     &     5.542  &         0.000        &       24.553    &       51.458     \\\\\n",
       "\\textbf{room\\_shared}        &    -270.6826  &       35.552     &    -7.614  &         0.000        &     -340.418    &     -200.947     \\\\\n",
       "\\textbf{room\\_private}       &    -169.8302  &        9.195     &   -18.470  &         0.000        &     -187.866    &     -151.794     \\\\\n",
       "\\textbf{person\\_capacity}    &      47.5661  &        3.574     &    13.310  &         0.000        &       40.556    &       54.576     \\\\\n",
       "\\textbf{superhost}           &      15.5403  &        6.797     &     2.286  &         0.022        &        2.207    &       28.873     \\\\\n",
       "\\textbf{multi}               &      -3.8143  &        6.241     &    -0.611  &         0.541        &      -16.056    &        8.428     \\\\\n",
       "\\textbf{biz}                 &      19.1618  &        7.005     &     2.736  &         0.006        &        5.422    &       32.901     \\\\\n",
       "\\textbf{cleanliness}         &      -2.7610  &        3.567     &    -0.774  &         0.439        &       -9.757    &        4.235     \\\\\n",
       "\\textbf{guest\\_satisfaction} &       1.5329  &        0.425     &     3.609  &         0.000        &        0.700    &        2.366     \\\\\n",
       "\\textbf{dist}                &     -10.6433  &        3.450     &    -3.085  &         0.002        &      -17.411    &       -3.876     \\\\\n",
       "\\textbf{metro\\_dist}         &      23.3560  &       10.040     &     2.326  &         0.020        &        3.662    &       43.051     \\\\\n",
       "\\textbf{attr\\_index}         &       0.6253  &        0.387     &     1.614  &         0.107        &       -0.135    &        1.385     \\\\\n",
       "\\textbf{rest\\_index}         &       0.6377  &        0.479     &     1.332  &         0.183        &       -0.301    &        1.577     \\\\\n",
       "\\bottomrule\n",
       "\\end{tabular}\n",
       "\\begin{tabular}{lclc}\n",
       "\\textbf{Omnibus:}       & 561.132 & \\textbf{  Durbin-Watson:     } &    1.657  \\\\\n",
       "\\textbf{Prob(Omnibus):} &   0.000 & \\textbf{  Jarque-Bera (JB):  } & 3437.329  \\\\\n",
       "\\textbf{Skew:}          &   1.562 & \\textbf{  Prob(JB):          } &     0.00  \\\\\n",
       "\\textbf{Kurtosis:}      &   9.598 & \\textbf{  Cond. No.          } & 1.41e+03  \\\\\n",
       "\\bottomrule\n",
       "\\end{tabular}\n",
       "%\\caption{OLS Regression Results}\n",
       "\\end{center}\n",
       "\n",
       "Notes: \\newline\n",
       " [1] Standard Errors assume that the covariance matrix of the errors is correctly specified. \\newline\n",
       " [2] The condition number is large, 1.41e+03. This might indicate that there are \\newline\n",
       " strong multicollinearity or other numerical problems."
      ],
      "text/plain": [
       "<class 'statsmodels.iolib.summary.Summary'>\n",
       "\"\"\"\n",
       "                            OLS Regression Results                            \n",
       "==============================================================================\n",
       "Dep. Variable:                  price   R-squared:                       0.693\n",
       "Model:                            OLS   Adj. R-squared:                  0.691\n",
       "Method:                 Least Squares   F-statistic:                     266.7\n",
       "Date:                Mon, 19 Feb 2024   Prob (F-statistic):               0.00\n",
       "Time:                        14:38:59   Log-Likelihood:                -9274.5\n",
       "No. Observations:                1548   AIC:                         1.858e+04\n",
       "Df Residuals:                    1534   BIC:                         1.865e+04\n",
       "Df Model:                          13                                         \n",
       "Covariance Type:            nonrobust                                         \n",
       "======================================================================================\n",
       "                         coef    std err          t      P>|t|      [0.025      0.975]\n",
       "--------------------------------------------------------------------------------------\n",
       "const                 96.4191     35.751      2.697      0.007      26.294     166.545\n",
       "bedrooms              38.0055      6.858      5.542      0.000      24.553      51.458\n",
       "room_shared         -270.6826     35.552     -7.614      0.000    -340.418    -200.947\n",
       "room_private        -169.8302      9.195    -18.470      0.000    -187.866    -151.794\n",
       "person_capacity       47.5661      3.574     13.310      0.000      40.556      54.576\n",
       "superhost             15.5403      6.797      2.286      0.022       2.207      28.873\n",
       "multi                 -3.8143      6.241     -0.611      0.541     -16.056       8.428\n",
       "biz                   19.1618      7.005      2.736      0.006       5.422      32.901\n",
       "cleanliness           -2.7610      3.567     -0.774      0.439      -9.757       4.235\n",
       "guest_satisfaction     1.5329      0.425      3.609      0.000       0.700       2.366\n",
       "dist                 -10.6433      3.450     -3.085      0.002     -17.411      -3.876\n",
       "metro_dist            23.3560     10.040      2.326      0.020       3.662      43.051\n",
       "attr_index             0.6253      0.387      1.614      0.107      -0.135       1.385\n",
       "rest_index             0.6377      0.479      1.332      0.183      -0.301       1.577\n",
       "==============================================================================\n",
       "Omnibus:                      561.132   Durbin-Watson:                   1.657\n",
       "Prob(Omnibus):                  0.000   Jarque-Bera (JB):             3437.329\n",
       "Skew:                           1.562   Prob(JB):                         0.00\n",
       "Kurtosis:                       9.598   Cond. No.                     1.41e+03\n",
       "==============================================================================\n",
       "\n",
       "Notes:\n",
       "[1] Standard Errors assume that the covariance matrix of the errors is correctly specified.\n",
       "[2] The condition number is large, 1.41e+03. This might indicate that there are\n",
       "strong multicollinearity or other numerical problems.\n",
       "\"\"\""
      ]
     },
     "execution_count": 25,
     "metadata": {},
     "output_type": "execute_result"
    }
   ],
   "source": [
    "# Turning True/False Boolean variables (room_private, room_shared, and superhost) into 1/0:\n",
    "room_private = normal_price['room_private'].astype(int)\n",
    "room_shared = normal_price['room_shared'].astype(int)\n",
    "superhost = normal_price['superhost'].astype(int)\n",
    "\n",
    "# Defining the predictors (dropping the columns: price, longitute and latitude) and target variable\n",
    "x = normal_price.drop(columns=['price', 'lng', 'lat'])\n",
    "y = normal_price['price']\n",
    "\n",
    "# Add a constant term to the predictor variables\n",
    "x_with_intercept = sm.add_constant(x)\n",
    "\n",
    "# Fit the linear regression model\n",
    "model = sm.OLS(y,x_with_intercept)\n",
    "\n",
    "# Display the results\n",
    "results = model.fit()\n",
    "results.summary()"
   ]
  },
  {
   "cell_type": "code",
   "execution_count": 26,
   "id": "bcd3479a",
   "metadata": {},
   "outputs": [
    {
     "data": {
      "text/html": [
       "<div>\n",
       "<style scoped>\n",
       "    .dataframe tbody tr th:only-of-type {\n",
       "        vertical-align: middle;\n",
       "    }\n",
       "\n",
       "    .dataframe tbody tr th {\n",
       "        vertical-align: top;\n",
       "    }\n",
       "\n",
       "    .dataframe thead th {\n",
       "        text-align: right;\n",
       "    }\n",
       "</style>\n",
       "<table border=\"1\" class=\"dataframe\">\n",
       "  <thead>\n",
       "    <tr style=\"text-align: right;\">\n",
       "      <th></th>\n",
       "      <th>bedrooms</th>\n",
       "      <th>room_shared</th>\n",
       "      <th>room_private</th>\n",
       "      <th>person_capacity</th>\n",
       "      <th>superhost</th>\n",
       "      <th>multi</th>\n",
       "      <th>biz</th>\n",
       "      <th>cleanliness</th>\n",
       "      <th>guest_satisfaction</th>\n",
       "      <th>dist</th>\n",
       "      <th>metro_dist</th>\n",
       "      <th>attr_index</th>\n",
       "      <th>rest_index</th>\n",
       "    </tr>\n",
       "  </thead>\n",
       "  <tbody>\n",
       "    <tr>\n",
       "      <th>0</th>\n",
       "      <td>1</td>\n",
       "      <td>0</td>\n",
       "      <td>0</td>\n",
       "      <td>4</td>\n",
       "      <td>0</td>\n",
       "      <td>0</td>\n",
       "      <td>1</td>\n",
       "      <td>10</td>\n",
       "      <td>91</td>\n",
       "      <td>1.111996</td>\n",
       "      <td>0.630491</td>\n",
       "      <td>17.942927</td>\n",
       "      <td>20.154890</td>\n",
       "    </tr>\n",
       "    <tr>\n",
       "      <th>1</th>\n",
       "      <td>1</td>\n",
       "      <td>0</td>\n",
       "      <td>1</td>\n",
       "      <td>2</td>\n",
       "      <td>1</td>\n",
       "      <td>1</td>\n",
       "      <td>0</td>\n",
       "      <td>10</td>\n",
       "      <td>88</td>\n",
       "      <td>1.751839</td>\n",
       "      <td>0.124017</td>\n",
       "      <td>10.910462</td>\n",
       "      <td>17.484489</td>\n",
       "    </tr>\n",
       "    <tr>\n",
       "      <th>2</th>\n",
       "      <td>1</td>\n",
       "      <td>0</td>\n",
       "      <td>1</td>\n",
       "      <td>4</td>\n",
       "      <td>0</td>\n",
       "      <td>0</td>\n",
       "      <td>1</td>\n",
       "      <td>9</td>\n",
       "      <td>88</td>\n",
       "      <td>1.670493</td>\n",
       "      <td>0.080322</td>\n",
       "      <td>11.726595</td>\n",
       "      <td>18.505814</td>\n",
       "    </tr>\n",
       "    <tr>\n",
       "      <th>3</th>\n",
       "      <td>1</td>\n",
       "      <td>0</td>\n",
       "      <td>0</td>\n",
       "      <td>3</td>\n",
       "      <td>0</td>\n",
       "      <td>0</td>\n",
       "      <td>1</td>\n",
       "      <td>10</td>\n",
       "      <td>91</td>\n",
       "      <td>1.475847</td>\n",
       "      <td>0.093107</td>\n",
       "      <td>13.634603</td>\n",
       "      <td>20.837357</td>\n",
       "    </tr>\n",
       "    <tr>\n",
       "      <th>4</th>\n",
       "      <td>1</td>\n",
       "      <td>0</td>\n",
       "      <td>1</td>\n",
       "      <td>3</td>\n",
       "      <td>0</td>\n",
       "      <td>1</td>\n",
       "      <td>0</td>\n",
       "      <td>9</td>\n",
       "      <td>91</td>\n",
       "      <td>1.855452</td>\n",
       "      <td>0.272486</td>\n",
       "      <td>11.793678</td>\n",
       "      <td>17.440874</td>\n",
       "    </tr>\n",
       "    <tr>\n",
       "      <th>...</th>\n",
       "      <td>...</td>\n",
       "      <td>...</td>\n",
       "      <td>...</td>\n",
       "      <td>...</td>\n",
       "      <td>...</td>\n",
       "      <td>...</td>\n",
       "      <td>...</td>\n",
       "      <td>...</td>\n",
       "      <td>...</td>\n",
       "      <td>...</td>\n",
       "      <td>...</td>\n",
       "      <td>...</td>\n",
       "      <td>...</td>\n",
       "    </tr>\n",
       "    <tr>\n",
       "      <th>1549</th>\n",
       "      <td>1</td>\n",
       "      <td>0</td>\n",
       "      <td>1</td>\n",
       "      <td>2</td>\n",
       "      <td>0</td>\n",
       "      <td>0</td>\n",
       "      <td>0</td>\n",
       "      <td>10</td>\n",
       "      <td>100</td>\n",
       "      <td>2.394839</td>\n",
       "      <td>0.954952</td>\n",
       "      <td>9.709902</td>\n",
       "      <td>12.430326</td>\n",
       "    </tr>\n",
       "    <tr>\n",
       "      <th>1550</th>\n",
       "      <td>3</td>\n",
       "      <td>0</td>\n",
       "      <td>0</td>\n",
       "      <td>6</td>\n",
       "      <td>0</td>\n",
       "      <td>0</td>\n",
       "      <td>1</td>\n",
       "      <td>8</td>\n",
       "      <td>84</td>\n",
       "      <td>2.503374</td>\n",
       "      <td>0.554007</td>\n",
       "      <td>9.075307</td>\n",
       "      <td>14.946029</td>\n",
       "    </tr>\n",
       "    <tr>\n",
       "      <th>1551</th>\n",
       "      <td>1</td>\n",
       "      <td>0</td>\n",
       "      <td>1</td>\n",
       "      <td>2</td>\n",
       "      <td>1</td>\n",
       "      <td>1</td>\n",
       "      <td>0</td>\n",
       "      <td>9</td>\n",
       "      <td>98</td>\n",
       "      <td>2.619616</td>\n",
       "      <td>0.761843</td>\n",
       "      <td>8.747713</td>\n",
       "      <td>12.276081</td>\n",
       "    </tr>\n",
       "    <tr>\n",
       "      <th>1552</th>\n",
       "      <td>1</td>\n",
       "      <td>0</td>\n",
       "      <td>1</td>\n",
       "      <td>2</td>\n",
       "      <td>1</td>\n",
       "      <td>1</td>\n",
       "      <td>0</td>\n",
       "      <td>10</td>\n",
       "      <td>98</td>\n",
       "      <td>2.700091</td>\n",
       "      <td>0.866258</td>\n",
       "      <td>8.538490</td>\n",
       "      <td>11.868058</td>\n",
       "    </tr>\n",
       "    <tr>\n",
       "      <th>1554</th>\n",
       "      <td>1</td>\n",
       "      <td>0</td>\n",
       "      <td>0</td>\n",
       "      <td>4</td>\n",
       "      <td>0</td>\n",
       "      <td>1</td>\n",
       "      <td>0</td>\n",
       "      <td>9</td>\n",
       "      <td>94</td>\n",
       "      <td>2.403086</td>\n",
       "      <td>0.607264</td>\n",
       "      <td>9.435073</td>\n",
       "      <td>12.871337</td>\n",
       "    </tr>\n",
       "  </tbody>\n",
       "</table>\n",
       "<p>1548 rows × 13 columns</p>\n",
       "</div>"
      ],
      "text/plain": [
       "      bedrooms  room_shared  room_private  person_capacity  superhost  multi  \\\n",
       "0            1            0             0                4          0      0   \n",
       "1            1            0             1                2          1      1   \n",
       "2            1            0             1                4          0      0   \n",
       "3            1            0             0                3          0      0   \n",
       "4            1            0             1                3          0      1   \n",
       "...        ...          ...           ...              ...        ...    ...   \n",
       "1549         1            0             1                2          0      0   \n",
       "1550         3            0             0                6          0      0   \n",
       "1551         1            0             1                2          1      1   \n",
       "1552         1            0             1                2          1      1   \n",
       "1554         1            0             0                4          0      1   \n",
       "\n",
       "      biz  cleanliness  guest_satisfaction      dist  metro_dist  attr_index  \\\n",
       "0       1           10                  91  1.111996    0.630491   17.942927   \n",
       "1       0           10                  88  1.751839    0.124017   10.910462   \n",
       "2       1            9                  88  1.670493    0.080322   11.726595   \n",
       "3       1           10                  91  1.475847    0.093107   13.634603   \n",
       "4       0            9                  91  1.855452    0.272486   11.793678   \n",
       "...   ...          ...                 ...       ...         ...         ...   \n",
       "1549    0           10                 100  2.394839    0.954952    9.709902   \n",
       "1550    1            8                  84  2.503374    0.554007    9.075307   \n",
       "1551    0            9                  98  2.619616    0.761843    8.747713   \n",
       "1552    0           10                  98  2.700091    0.866258    8.538490   \n",
       "1554    0            9                  94  2.403086    0.607264    9.435073   \n",
       "\n",
       "      rest_index  \n",
       "0      20.154890  \n",
       "1      17.484489  \n",
       "2      18.505814  \n",
       "3      20.837357  \n",
       "4      17.440874  \n",
       "...          ...  \n",
       "1549   12.430326  \n",
       "1550   14.946029  \n",
       "1551   12.276081  \n",
       "1552   11.868058  \n",
       "1554   12.871337  \n",
       "\n",
       "[1548 rows x 13 columns]"
      ]
     },
     "execution_count": 26,
     "metadata": {},
     "output_type": "execute_result"
    }
   ],
   "source": [
    "x # after dropping latitude, longitude and price and turning the boolean value to integer."
   ]
  },
  {
   "cell_type": "markdown",
   "id": "389364c8",
   "metadata": {},
   "source": [
    "8. Which variables are important to predict the prices? Which are not?"
   ]
  },
  {
   "cell_type": "markdown",
   "id": "98ec1f23",
   "metadata": {},
   "source": [
    "bedrooms, room_shared, room_private, person_capacity, superhost, biz, guest_satisfaction, dist, metro_dist,all have p-value less than 0.05 indicating that they play a significant role in determining the prices of the Airbnbs' in Barcelona.\n",
    "On the other hand,multi, cleanliness, attr_index,rest_index are considered non-significant variables to predict the variable 'price' for the Airbnbs' in Barcelona & Spain because their p-value is greater than 0.05, and any p-value greater than the significance level we fail to reject the null  hypothesis that the variables do not impact on the prediction of price."
   ]
  },
  {
   "cell_type": "markdown",
   "id": "892f79cc",
   "metadata": {},
   "source": [
    "9. Interpret the impact of metro_dist on the price."
   ]
  },
  {
   "cell_type": "markdown",
   "id": "039a469e",
   "metadata": {},
   "source": [
    "The correlation coefficient calculated is a negative sign indicating a negative correlation. This means that as distance to the closest metro station increases, the other variable 'price' tends to decrease slightly. However, the strength of this relationship is almost negligible.The correlation coefficient is very close to 0, indicating an extremely weak correlation. This suggests that distance to the closest metro station (metro_dist) is not a significant factor influencing the price (price) in this dataset. "
   ]
  },
  {
   "cell_type": "markdown",
   "id": "590b6279",
   "metadata": {},
   "source": [
    "10. Interpret the impact of being a superhost."
   ]
  },
  {
   "cell_type": "markdown",
   "id": "28c6ce5a",
   "metadata": {},
   "source": [
    "If the count of superhosts is relatively high, it suggests that being a superhost is common, and it may have a positive impact on factors such as booking frequency, guest satisfaction, and overall listing performance.\n",
    "On the other hand, if the count of superhosts is low, it suggests that being a superhost is less common, and its impact on listing performance may be less significant compared to other factors."
   ]
  }
 ],
 "metadata": {
  "kernelspec": {
   "display_name": "Python 3 (ipykernel)",
   "language": "python",
   "name": "python3"
  },
  "language_info": {
   "codemirror_mode": {
    "name": "ipython",
    "version": 3
   },
   "file_extension": ".py",
   "mimetype": "text/x-python",
   "name": "python",
   "nbconvert_exporter": "python",
   "pygments_lexer": "ipython3",
   "version": "3.11.5"
  }
 },
 "nbformat": 4,
 "nbformat_minor": 5
}
